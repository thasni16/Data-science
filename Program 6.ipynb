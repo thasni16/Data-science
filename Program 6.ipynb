{
 "cells": [
  {
   "cell_type": "code",
   "execution_count": 33,
   "id": "69c1cb0d",
   "metadata": {},
   "outputs": [
    {
     "name": "stdout",
     "output_type": "stream",
     "text": [
      "    BMI  Age  Sugar\n",
      "0  33.6   50      1\n",
      "1  26.6   30      0\n",
      "2  23.4   40      0\n",
      "3  43.1   67      0\n",
      "4  35.3   23      1\n",
      "5  35.9   67      1\n",
      "6  36.7   45      1\n",
      "7  25.7   46      0\n",
      "8  23.3   29      0\n",
      "9  31.0   56      1\n"
     ]
    },
    {
     "data": {
      "image/png": "[encoded data removed]",
      "text/plain": [
       "<Figure size 432x288 with 1 Axes>"
      ]
     },
     "metadata": {
      "needs_background": "light"
     },
     "output_type": "display_data"
    },
    {
     "name": "stdout",
     "output_type": "stream",
     "text": [
      "The predicted class for BMI=43.6 and Age=40 is: 1\n",
      "The person has sugar\n",
      "Confusion Matrix:\n",
      "[[2 0]\n",
      " [0 1]]\n"
     ]
    },
    {
     "name": "stderr",
     "output_type": "stream",
     "text": [
      "C:\\Users\\DBLab\\anaconda3\\lib\\site-packages\\sklearn\\base.py:450: UserWarning: X does not have valid feature names, but StandardScaler was fitted with feature names\n",
      "  warnings.warn(\n"
     ]
    }
   ],
   "source": [
    "import pandas as pd\n",
    "import numpy as np\n",
    "import matplotlib.pyplot as plt\n",
    "from sklearn import preprocessing\n",
    "from sklearn.neighbors import KNeighborsClassifier\n",
    "from sklearn.model_selection import train_test_split\n",
    "from sklearn.metrics import classification_report,confusion_matrix\n",
    "d1={'BMI':[33.6,26.6,23.4,43.1,35.3,35.9,36.7,25.7,23.3,31],\n",
    "    'Age':[50,30,40,67,23,67,45,46,29,56],\n",
    "    'Sugar':[1,0,0,0,1,1,1,0,0,1]}\n",
    "data1=pd.DataFrame(d1)\n",
    "data1.to_csv(\"NewDataset\")\n",
    "print(data1)\n",
    "\n",
    "col=data1['Sugar'].map({0:'blue',1:'red'})\n",
    "plt.scatter(data1['BMI'],data1['Age'],color=col,s=100)\n",
    "plt.title('BMI Vs Age',fontsize=14)\n",
    "plt.xlabel('BMI',fontsize=14)\n",
    "plt.ylabel('Age',fontsize=14)\n",
    "plt.scatter([],[],color='blue',label='sugar=0')\n",
    "plt.scatter([],[],color='red',label='sugar=1')\n",
    "plt.legend(title='Sugar level')\n",
    "plt.grid(True)\n",
    "plt.show()\n",
    "\n",
    "x = data1[['BMI', 'Age']]\n",
    "y = data1['Sugar']\n",
    "scalar=preprocessing.StandardScaler().fit(x)\n",
    "X_scaled = scalar.fit_transform(x)\n",
    "\n",
    "X_train, X_test, y_train, y_test = train_test_split(X_scaled, y, test_size=0.3,stratify=y,random_state=0)\n",
    "knn = KNeighborsClassifier(n_neighbors=3)\n",
    "knn.fit(X_train, y_train)\n",
    "y_pred = knn.predict(X_test)\n",
    "\n",
    "new_data = np.array([[43.6, 40]])\n",
    "new_data_scaled = scalar.transform(new_data)\n",
    "pred = knn.predict(new_data_scaled)\n",
    "print(f\"The predicted class for BMI=43.6 and Age=40 is: {pred[0]}\")\n",
    "if pred[0]==0:\n",
    "    print(\"The person has no sugar\")\n",
    "else:\n",
    "    print(\"The person has sugar\")\n",
    "    \n",
    "conf_matrix = confusion_matrix(y_test, y_pred)\n",
    "print(\"Confusion Matrix:\")\n",
    "print(conf_matrix)"
   ]
  },
  {
   "cell_type": "code",
   "execution_count": null,
   "id": "642aac13",
   "metadata": {},
   "outputs": [],
   "source": []
  }
 ],
 "metadata": {
  "kernelspec": {
   "display_name": "Python 3 (ipykernel)",
   "language": "python",
   "name": "python3"
  },
  "language_info": {
   "codemirror_mode": {
    "name": "ipython",
    "version": 3
   },
   "file_extension": ".py",
   "mimetype": "text/x-python",
   "name": "python",
   "nbconvert_exporter": "python",
   "pygments_lexer": "ipython3",
   "version": "3.9.12"
  }
 },
 "nbformat": 4,
 "nbformat_minor": 5
}
