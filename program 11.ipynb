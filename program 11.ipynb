{
 "cells": [
  {
   "cell_type": "code",
   "execution_count": 6,
   "id": "bbd301f5",
   "metadata": {},
   "outputs": [
    {
     "name": "stdout",
     "output_type": "stream",
     "text": [
      "Coefficient:\n",
      " [938.23786125]\n",
      "Intercept:\n",
      " 152.91886182616167\n",
      "Mean Squared Error:2548.07\n",
      "coefficient of determination: 0.47\n"
     ]
    },
    {
     "data": {
      "image/png": "[encoded data removed]",
      "text/plain": [
       "<Figure size 432x288 with 1 Axes>"
      ]
     },
     "metadata": {},
     "output_type": "display_data"
    }
   ],
   "source": [
    "import  matplotlib.pyplot as plt\n",
    "import numpy as np\n",
    "from sklearn import datasets,linear_model\n",
    "from sklearn.metrics import mean_squared_error,r2_score\n",
    "\n",
    "diabetes=datasets.load_diabetes()\n",
    "diabetes_x=diabetes.data[:,np.newaxis,2]\n",
    "diabetes_x_train=diabetes_x[:-20]\n",
    "diabetes_x_test=diabetes_x[-20:]\n",
    "\n",
    "diabetes_y_train=diabetes.target[:-20]\n",
    "diabetes_y_test=diabetes.target[-20:]\n",
    "reg=linear_model.LinearRegression()\n",
    "reg.fit(diabetes_x_train,diabetes_y_train)\n",
    "diabetes_y_pred=reg.predict(diabetes_x_test)\n",
    "print(\"Coefficient:\\n\",reg.coef_)\n",
    "print(\"Intercept:\\n\",reg.intercept_)\n",
    "print(\"Mean Squared Error:%.2f\" % mean_squared_error(diabetes_y_test,diabetes_y_pred))\n",
    "print(\"coefficient of determination: %.2f\" % r2_score(diabetes_y_test,diabetes_y_pred))\n",
    "\n",
    "plt.scatter(diabetes_x_test,diabetes_y_test,color=\"black\")\n",
    "plt.plot(diabetes_x_test,diabetes_y_pred,color=\"blue\",linewidth=3)\n",
    "plt.xlabel(\"Age\")\n",
    "plt.ylabel(\"Diabetes Progression\")\n",
    "plt.xticks(())\n",
    "plt.yticks(())\n",
    "plt.show()"
   ]
  },
  {
   "cell_type": "code",
   "execution_count": null,
   "id": "253fc0b1",
   "metadata": {},
   "outputs": [],
   "source": []
  }
 ],
 "metadata": {
  "kernelspec": {
   "display_name": "Python 3 (ipykernel)",
   "language": "python",
   "name": "python3"
  },
  "language_info": {
   "codemirror_mode": {
    "name": "ipython",
    "version": 3
   },
   "file_extension": ".py",
   "mimetype": "text/x-python",
   "name": "python",
   "nbconvert_exporter": "python",
   "pygments_lexer": "ipython3",
   "version": "3.9.12"
  }
 },
 "nbformat": 4,
 "nbformat_minor": 5
}
