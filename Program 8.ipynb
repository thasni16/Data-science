{
 "cells": [
  {
   "cell_type": "code",
   "execution_count": 1,
   "id": "e40f60a4",
   "metadata": {},
   "outputs": [
    {
     "name": "stderr",
     "output_type": "stream",
     "text": [
      "C:\\Users\\DBLab\\anaconda3\\lib\\site-packages\\scipy\\__init__.py:146: UserWarning: A NumPy version >=1.16.5 and <1.23.0 is required for this version of SciPy (detected version 1.26.4\n",
      "  warnings.warn(f\"A NumPy version >={np_minversion} and <{np_maxversion}\"\n"
     ]
    },
    {
     "name": "stdout",
     "output_type": "stream",
     "text": [
      "Accuracy:50.00%\n",
      "Predicted label for new message:ham\n"
     ]
    }
   ],
   "source": [
    "import pandas as pd\n",
    "from sklearn.model_selection import train_test_split\n",
    "from sklearn.feature_extraction.text import CountVectorizer\n",
    "from sklearn.naive_bayes import MultinomialNB\n",
    "from sklearn.metrics import accuracy_score, classification_report\n",
    "\n",
    "data={'label':['ham','spam','ham','ham','spam','ham','spam','ham'],\n",
    "     'message':[\"Hello, how are you?\",\n",
    "                \"Congratulations! You've won a lottery of $1000\",\n",
    "                \"Don't forget our meeting tomorrow\",\n",
    "               \"Your subscription is renewed\",\n",
    "               \"Click here to claim your prize!\",\n",
    "               \"See you at the gym later\",\n",
    "               \"Limited time offer! Get your discount now!\",\n",
    "               \"Have a great day!\"]}\n",
    "df=pd.DataFrame(data)\n",
    "\n",
    "x=df['message']\n",
    "y=df['label']\n",
    "\n",
    "x_train,x_test,y_train,y_test=train_test_split(x,y,test_size=0.25,random_state=42,stratify=y)\n",
    "\n",
    "vectorizer=CountVectorizer()\n",
    "x_train_vectorized=vectorizer.fit_transform(x_train)\n",
    "x_test_vectorized=vectorizer.transform(x_test)\n",
    "\n",
    "model=MultinomialNB()\n",
    "model.fit(x_train_vectorized,y_train)\n",
    "\n",
    "y_pred=model.predict(x_test_vectorized)\n",
    "\n",
    "accuracy=accuracy_score(y_test,y_pred)\n",
    "print(f\"Accuracy:{accuracy*100:.2f}%\")\n",
    "\n",
    "new_message=['how are you']\n",
    "new_message_vectorized=vectorizer.transform(new_message)\n",
    "new_pred=model.predict(new_message_vectorized)\n",
    "print(f\"Predicted label for new message:{new_pred[0]}\")"
   ]
  },
  {
   "cell_type": "code",
   "execution_count": null,
   "id": "0bd2c808",
   "metadata": {},
   "outputs": [],
   "source": []
  }
 ],
 "metadata": {
  "kernelspec": {
   "display_name": "Python 3 (ipykernel)",
   "language": "python",
   "name": "python3"
  },
  "language_info": {
   "codemirror_mode": {
    "name": "ipython",
    "version": 3
   },
   "file_extension": ".py",
   "mimetype": "text/x-python",
   "name": "python",
   "nbconvert_exporter": "python",
   "pygments_lexer": "ipython3",
   "version": "3.9.12"
  }
 },
 "nbformat": 4,
 "nbformat_minor": 5
}
